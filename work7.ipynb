{
 "cells": [
  {
   "cell_type": "markdown",
   "id": "4c3961b3-5c6c-4e12-ab37-912f6b48ca60",
   "metadata": {},
   "source": [
    "eğer hocanın sorusunda tam olarak onun dediği gibi bi yolla çözemesem de \n",
    "istediği outputu veren bir yol bulup onu uygularım\n"
   ]
  },
  {
   "cell_type": "markdown",
   "id": "1d3daee4-91e5-45e2-8b81-a48e8f061603",
   "metadata": {},
   "source": [
    "=>  hafta16 daki quiz sorusunu halledelim"
   ]
  },
  {
   "cell_type": "code",
   "execution_count": 127,
   "id": "58513550-66e6-4bcf-aa60-7fcc3fc4fcbb",
   "metadata": {},
   "outputs": [],
   "source": [
    "import random"
   ]
  },
  {
   "cell_type": "code",
   "execution_count": 128,
   "id": "c3acdc29-7306-45ac-b812-c9f2e3d5f068",
   "metadata": {},
   "outputs": [
    {
     "name": "stdout",
     "output_type": "stream",
     "text": [
      "[99, 97, 51, 83, 73, 61, 68, 41, 10, 83]\n"
     ]
    }
   ],
   "source": [
    "dizi=[]\n",
    "for i in range(10):\n",
    "    dizi+=[random.randint(10,99)]\n",
    "print(dizi)"
   ]
  },
  {
   "cell_type": "code",
   "execution_count": 129,
   "id": "268215f1-52bc-4e53-a321-41a0e712e5d8",
   "metadata": {},
   "outputs": [
    {
     "name": "stdout",
     "output_type": "stream",
     "text": [
      "[99, 97, 51, 83, 73] [61, 68, 41, 10, 83]\n"
     ]
    }
   ],
   "source": [
    "liste1=dizi[:5]\n",
    "liste2=dizi[5:]\n",
    "print(liste1, liste2)"
   ]
  },
  {
   "cell_type": "code",
   "execution_count": 130,
   "id": "0313a9eb-bcbf-4664-9629-3fa4bb5d66b9",
   "metadata": {},
   "outputs": [
    {
     "name": "stdout",
     "output_type": "stream",
     "text": [
      "[51, 73, 83, 97, 99]\n",
      "[10, 41, 61, 68, 83]\n"
     ]
    }
   ],
   "source": [
    "def insertionSort(arr):  \n",
    "    for i in range(1,len(arr)):\n",
    "        x=arr[i]      \n",
    "        j=i-1\n",
    "        while j>=0 and x<arr[j] :\n",
    "                arr[j+1]=arr[j]\n",
    "                j-=1\n",
    "        arr[j+1]=x\n",
    "    return arr\n",
    "\n",
    "print(insertionSort(liste1))\n",
    "print(insertionSort(liste2))"
   ]
  },
  {
   "cell_type": "code",
   "execution_count": 131,
   "id": "4e1a9645-6d27-4339-bba7-0702e9884d49",
   "metadata": {},
   "outputs": [
    {
     "name": "stdout",
     "output_type": "stream",
     "text": [
      "[10, 41, 51, 61, 68, 73, 83, 83, 97, 99]\n"
     ]
    }
   ],
   "source": [
    "sonliste=[]\n",
    "i=0\n",
    "j=0\n",
    "while i!=5 or j!=5:\n",
    "    if i==5:\n",
    "        sonliste+=liste2[j:]\n",
    "        break\n",
    "    elif j==5:\n",
    "        sonliste+=liste1[i:]\n",
    "        break\n",
    "    elif liste1[i]<=liste2[j]:\n",
    "        sonliste+=[liste1[i]]\n",
    "        i+=1\n",
    "    elif liste2[j]<liste1[i]:\n",
    "        sonliste+=[liste2[j]]\n",
    "        j+=1\n",
    "print(sonliste)"
   ]
  },
  {
   "cell_type": "code",
   "execution_count": null,
   "id": "5c10fc05-dad2-43d2-af7a-b97e814dc189",
   "metadata": {},
   "outputs": [],
   "source": []
  }
 ],
 "metadata": {
  "kernelspec": {
   "display_name": "Python 3 (ipykernel)",
   "language": "python",
   "name": "python3"
  },
  "language_info": {
   "codemirror_mode": {
    "name": "ipython",
    "version": 3
   },
   "file_extension": ".py",
   "mimetype": "text/x-python",
   "name": "python",
   "nbconvert_exporter": "python",
   "pygments_lexer": "ipython3",
   "version": "3.9.7"
  }
 },
 "nbformat": 4,
 "nbformat_minor": 5
}
