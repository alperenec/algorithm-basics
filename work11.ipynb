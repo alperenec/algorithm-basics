{
 "cells": [
  {
   "cell_type": "code",
   "execution_count": 1,
   "id": "57c75269",
   "metadata": {},
   "outputs": [
    {
     "ename": "IndentationError",
     "evalue": "expected an indented block (Temp/ipykernel_11188/2201181183.py, line 6)",
     "output_type": "error",
     "traceback": [
      "\u001b[1;36m  File \u001b[1;32m\"C:\\Users\\alper\\AppData\\Local\\Temp/ipykernel_11188/2201181183.py\"\u001b[1;36m, line \u001b[1;32m6\u001b[0m\n\u001b[1;33m    N = int(input()) #Sonuc : 30\u001b[0m\n\u001b[1;37m    ^\u001b[0m\n\u001b[1;31mIndentationError\u001b[0m\u001b[1;31m:\u001b[0m expected an indented block\n"
     ]
    }
   ],
   "source": [
    "from math import factorial\n",
    "\n",
    "T = int(input())\n",
    "for tekrar in range(T):\n",
    "\n",
    "N = int(input()) #Sonuc : 30\n",
    "antionuc= (10 ** N) - ((10 ** (N-2)) * (N-1))\n",
    "\n",
    "for sayılık in range(2, N//2 + 1):\n",
    "if sayılık % 2 == 0 :#Çift sayı ise\n",
    "baş = 1\n",
    "else:\n",
    "baş = -1\n",
    "Sayılar = 10 ** (N - (sayılık * 2)) #0-9 a kadar yazılabilecek kutucuklar\n",
    "if Sayılar == 0:\n",
    "Sayılar = 1\n",
    "\n",
    "boş_kutu = N - 2*(sayılık)\n",
    "sıra_onüç = ((N - boş_kutu) // 2) + boş_kutu #13'lerin yerleşebilecek kutu sayısı. C(sıra_onüç , sayılık)\n",
    "\n",
    "#Kombinasyon kısı\n",
    "\n",
    "kombinasyon=int(factorial(sıra_onüç)/(factorial(sıra_onüç-sayılık)*factorial(sayılık)))\n",
    "\n",
    "#Değer eklenmesi\n",
    "değişecek= kombinasyon * Sayılar * baş\n",
    "antionuc += değişecek\n",
    "print(int(antionuc))"
   ]
  },
  {
   "cell_type": "code",
   "execution_count": null,
   "id": "8238e289",
   "metadata": {},
   "outputs": [],
   "source": []
  }
 ],
 "metadata": {
  "kernelspec": {
   "display_name": "Python 3 (ipykernel)",
   "language": "python",
   "name": "python3"
  },
  "language_info": {
   "codemirror_mode": {
    "name": "ipython",
    "version": 3
   },
   "file_extension": ".py",
   "mimetype": "text/x-python",
   "name": "python",
   "nbconvert_exporter": "python",
   "pygments_lexer": "ipython3",
   "version": "3.9.7"
  }
 },
 "nbformat": 4,
 "nbformat_minor": 5
}
