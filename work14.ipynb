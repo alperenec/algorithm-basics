{
 "cells": [
  {
   "cell_type": "code",
   "execution_count": 1,
   "id": "4093448e",
   "metadata": {},
   "outputs": [
    {
     "name": "stdin",
     "output_type": "stream",
     "text": [
      " 1\n",
      " 5\n",
      " 2 6 8 5 8\n"
     ]
    }
   ],
   "source": [
    "t=int(input())\n",
    "for iT in range(t):\n",
    "    n=int(input())\n",
    "    txt=input()\n",
    "    nh=txt.split()"
   ]
  },
  {
   "cell_type": "code",
   "execution_count": 2,
   "id": "2a1490c3",
   "metadata": {},
   "outputs": [
    {
     "name": "stdin",
     "output_type": "stream",
     "text": [
      " 1\n",
      " 5\n",
      " 5 6 5 8 5\n"
     ]
    },
    {
     "name": "stdout",
     "output_type": "stream",
     "text": [
      "2\n"
     ]
    }
   ],
   "source": [
    "##\n",
    "T = int(input())\n",
    "for teptekrar in range(T):\n",
    "    N = int(input())\n",
    "    arr = input().split()\n",
    "\n",
    "    for ix in range(len(arr)):\n",
    "        arr[ix] = int(arr[ix])\n",
    "    ###\n",
    "    for tekrar in arr:\n",
    "        for ix in range(len(arr)-1):\n",
    "            if arr[ix] > arr[ix+1]:\n",
    "                arr[ix], arr[ix+1] = arr[ix+1] , arr[ix]\n",
    "    ###\n",
    "    gözlem = [1]\n",
    "    for ix in range(len(arr)-1):\n",
    "        if arr[ix] == arr[ix+1]:\n",
    "            gözlem[-1] += 1\n",
    "        else:\n",
    "            gözlem += [1]\n",
    "\n",
    "    maks = gözlem[0]\n",
    "    min = gözlem[0]\n",
    "    for x in gözlem:\n",
    "        if maks < x:\n",
    "            maks = x\n",
    "        if min > x:\n",
    "            min = x\n",
    "    print(maks-min)"
   ]
  },
  {
   "cell_type": "code",
   "execution_count": null,
   "id": "9dbcdb0b",
   "metadata": {},
   "outputs": [],
   "source": [
    "##\n",
    "T = int(input())\n",
    "for x in range(T):\n",
    "    N = int(input())\n",
    "    height =list(map(int,input().split()))\n",
    "    byk  = 0\n",
    "    for x in range(len(height)):\n",
    "        if height[x]>byk:\n",
    "            byk = height[x]\n",
    "    arr = [0 for a in range(byk+1)]\n",
    "    for i in range(0,len(height)):\n",
    "        arr[height[i]]+=1\n",
    "    max = 0\n",
    "    min = 1\n",
    "    for b in range(len(arr)):\n",
    "        if arr[b]>max:\n",
    "            max = arr[b]\n",
    "    for k in range(len(arr)):\n",
    "        if arr[k]!=0 and arr[k]<min:\n",
    "            min = arr[k]\n",
    "    \n",
    "print(max-min)"
   ]
  },
  {
   "cell_type": "code",
   "execution_count": null,
   "id": "5615d96d",
   "metadata": {},
   "outputs": [],
   "source": []
  }
 ],
 "metadata": {
  "kernelspec": {
   "display_name": "Python 3 (ipykernel)",
   "language": "python",
   "name": "python3"
  },
  "language_info": {
   "codemirror_mode": {
    "name": "ipython",
    "version": 3
   },
   "file_extension": ".py",
   "mimetype": "text/x-python",
   "name": "python",
   "nbconvert_exporter": "python",
   "pygments_lexer": "ipython3",
   "version": "3.9.7"
  }
 },
 "nbformat": 4,
 "nbformat_minor": 5
}
