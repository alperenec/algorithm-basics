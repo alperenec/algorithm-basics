{
 "cells": [
  {
   "cell_type": "code",
   "execution_count": 38,
   "id": "fc479c69",
   "metadata": {},
   "outputs": [
    {
     "name": "stdout",
     "output_type": "stream",
     "text": [
      "1221\n",
      "True\n"
     ]
    }
   ],
   "source": [
    "#palindromsa True değisle False veren program\n",
    "\n",
    "sayi=int(input())\n",
    "sayi=str(sayi)\n",
    "bas=len(sayi)\n",
    "\n",
    "palindrome= True\n",
    "i=0\n",
    "while i!= bas//2:\n",
    "    if sayi[i]!=sayi[bas-1-i]:\n",
    "        palindrome=False\n",
    "        break\n",
    "    i+=1\n",
    "print(palindrome)"
   ]
  },
  {
   "cell_type": "code",
   "execution_count": 43,
   "id": "3a399486",
   "metadata": {},
   "outputs": [
    {
     "name": "stdout",
     "output_type": "stream",
     "text": [
      "65151\n",
      "['6', '5', '1', '5', '6']\n"
     ]
    }
   ],
   "source": [
    "#Palindrom değilse palindrom yapan kod\n",
    "\n",
    "sayi=int(input())\n",
    "sayi1=list(str(sayi))\n",
    "sayi2=list(str(sayi))\n",
    "bas=len(sayi1)\n",
    "\n",
    "i=0\n",
    "while i!=bas//2:\n",
    "    if sayi1[i]!=sayi1[bas-1-i]:\n",
    "        sayi2[bas-1-i]=sayi1[i]\n",
    "    i+=1\n",
    "print(sayi2)"
   ]
  },
  {
   "cell_type": "code",
   "execution_count": null,
   "id": "8c0b0bad",
   "metadata": {},
   "outputs": [],
   "source": []
  }
 ],
 "metadata": {
  "kernelspec": {
   "display_name": "Python 3 (ipykernel)",
   "language": "python",
   "name": "python3"
  },
  "language_info": {
   "codemirror_mode": {
    "name": "ipython",
    "version": 3
   },
   "file_extension": ".py",
   "mimetype": "text/x-python",
   "name": "python",
   "nbconvert_exporter": "python",
   "pygments_lexer": "ipython3",
   "version": "3.9.7"
  }
 },
 "nbformat": 4,
 "nbformat_minor": 5
}
