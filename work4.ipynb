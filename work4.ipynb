{
 "cells": [
  {
   "cell_type": "code",
   "execution_count": 14,
   "id": "27554c96",
   "metadata": {},
   "outputs": [
    {
     "name": "stdout",
     "output_type": "stream",
     "text": [
      "İşçi maaşını girin:1000\n",
      "Çocuk sayısı girin:3\n",
      "Yeni maaşınız: 1150.0\n"
     ]
    }
   ],
   "source": [
    "#input, if, print kullandım su ana kadar\n",
    "isciEskiMaasi=int(input(\"İşçi maaşını girin:\"))\n",
    "cocukSayisi=int(input(\"Çocuk sayısı girin:\"))\n",
    "yeniMaas=isciEskiMaasi\n",
    "if (cocukSayisi==1):\n",
    "    yeniMaas=isciEskiMaasi*1.05\n",
    "else:\n",
    "    if(cocukSayisi==2):\n",
    "        yeniMaas=isciEskiMaasi*1.10\n",
    "    else:\n",
    "        if(cocukSayisi>=3):\n",
    "            yeniMaas=isciEskiMaasi*1.15\n",
    "print(\"Yeni maaşınız:\",yeniMaas)"
   ]
  },
  {
   "cell_type": "code",
   "execution_count": 17,
   "id": "943b1ba7",
   "metadata": {},
   "outputs": [
    {
     "name": "stdout",
     "output_type": "stream",
     "text": [
      "1:Toplama\n",
      "2:Çıkartma\n",
      "3:Çarpma\n",
      "4:Bölme\n",
      "Birinci değeri gir:10\n",
      "İkinci değeri gir:11\n",
      "İşlem seçiniz:2\n",
      "Çıkarma sonucu: -1.0\n"
     ]
    }
   ],
   "source": [
    "print(\"1:Toplama\\n2:Çıkartma\\n3:Çarpma\\n4:Bölme\")                     #  \\n alt satıra geç anlamı taşır\n",
    "d1=float(input(\"Birinci değeri gir:\"))\n",
    "d2=float(input(\"İkinci değeri gir:\"))\n",
    "a=int(input(\"İşlem seçiniz:\")) \n",
    "if(a==1):\n",
    "    print(\"Toplama sonucu:\",d1+d2)\n",
    "elif(a==2):\n",
    "    print(\"Çıkarma sonucu:\",d1-d2)\n",
    "elif(a==3):\n",
    "    print(\"Çarpma sonucu:\",d1*d2)\n",
    "elif(a==4):\n",
    "    print(\"Bölme sonucu:\",d1/d2)\n",
    "else:\n",
    "    print(\"Hatalı seçim\\nİyi günler\")"
   ]
  },
  {
   "cell_type": "code",
   "execution_count": 4,
   "id": "4919ec78",
   "metadata": {},
   "outputs": [
    {
     "name": "stdout",
     "output_type": "stream",
     "text": [
      "Çizgiye ait katsayıları giriniz:\n",
      "a:3\n",
      "b:4\n",
      "c:5\n",
      "Daireye ait katsayıları giriniz:\n",
      "x:6\n",
      "y:7\n",
      "r:8\n",
      "Nokta uzaklığı= 10.2 Yarıçap= 8\n",
      "kesmiyor\n"
     ]
    }
   ],
   "source": [
    "#dairenin merkezinin çizgiye olan uzaklığını hesaplıyıp, daire ile çizgi teğet mi, kesiyor mu, kesmiyor mu ona bakılır\n",
    "import math\n",
    "print(\"Çizgiye ait katsayıları giriniz:\")\n",
    "a=int(input(\"a:\"))\n",
    "b=int(input(\"b:\"))\n",
    "c=int(input(\"c:\"))\n",
    "print(\"Daireye ait katsayıları giriniz:\")\n",
    "x=int(input(\"x:\"))\n",
    "y=int(input(\"y:\"))\n",
    "r=int(input(\"r:\"))\n",
    "\n",
    "d=abs(a*x+b*y+c)/math.sqrt(a**2+b**2)                           #abs mutlak değerini, math.sqrt ise karekökü alır\n",
    "print(\"Nokta uzaklığı=\",d,\"Yarıçap=\",r)                         #math.pow(a,2) aynı şey a**2 ile\n",
    "if d>r:                                                         #d=abs(a*x+b*y+c)/math.sqrt(a**2+b**2)  yerine\n",
    "    print(\"kesmiyor\")                                           #d=abs(a*x+b*y+c)/math.sqrt(math.pow(a,2)+math.pow(b,2)) yazılabilinir\n",
    "elif d==r:\n",
    "    print(\"teğet\")\n",
    "else:\n",
    "        print(\"kesiyor\")"
   ]
  },
  {
   "cell_type": "code",
   "execution_count": 5,
   "id": "71c525a6",
   "metadata": {},
   "outputs": [
    {
     "name": "stdout",
     "output_type": "stream",
     "text": [
      "['__doc__', '__loader__', '__name__', '__package__', '__spec__', 'acos', 'acosh', 'asin', 'asinh', 'atan', 'atan2', 'atanh', 'ceil', 'comb', 'copysign', 'cos', 'cosh', 'degrees', 'dist', 'e', 'erf', 'erfc', 'exp', 'expm1', 'fabs', 'factorial', 'floor', 'fmod', 'frexp', 'fsum', 'gamma', 'gcd', 'hypot', 'inf', 'isclose', 'isfinite', 'isinf', 'isnan', 'isqrt', 'ldexp', 'lgamma', 'log', 'log10', 'log1p', 'log2', 'modf', 'nan', 'perm', 'pi', 'pow', 'prod', 'radians', 'remainder', 'sin', 'sinh', 'sqrt', 'tan', 'tanh', 'tau', 'trunc']\n"
     ]
    }
   ],
   "source": [
    "import math\n",
    "print(dir(math))\n",
    "#math.floor(4.3) => 4 \n",
    "#math.floor(4.9) => 4\n",
    "#math.ceil(4.3) => 5\n",
    "#math.ceil(4.9) => 5\n"
   ]
  },
  {
   "cell_type": "markdown",
   "id": "d3792b48",
   "metadata": {},
   "source": [
    "FOR - WHİLE"
   ]
  },
  {
   "cell_type": "code",
   "execution_count": 7,
   "id": "9b5c01db",
   "metadata": {},
   "outputs": [
    {
     "name": "stdout",
     "output_type": "stream",
     "text": [
      "0 1 2 3 4 5 6 7 8 9 "
     ]
    }
   ],
   "source": [
    "for x in range(10):               #döngü\n",
    "    print(x, end=\" \")"
   ]
  },
  {
   "cell_type": "code",
   "execution_count": 8,
   "id": "b4ea8e5a",
   "metadata": {},
   "outputs": [
    {
     "name": "stdout",
     "output_type": "stream",
     "text": [
      "0 1 2 3 4 5 6 7 8 9 "
     ]
    }
   ],
   "source": [
    "x=0\n",
    "while x<10:\n",
    "    print(x,end=\" \")\n",
    "    x=x+1"
   ]
  },
  {
   "cell_type": "code",
   "execution_count": 9,
   "id": "52415fa4",
   "metadata": {},
   "outputs": [
    {
     "name": "stdout",
     "output_type": "stream",
     "text": [
      "Element      Value\n",
      "0            2\n",
      "1            4\n",
      "2            6\n",
      "3            8\n",
      "4            10\n",
      "5            12\n",
      "6            14\n",
      "7            16\n",
      "8            18\n",
      "9            20\n"
     ]
    }
   ],
   "source": [
    "print(\"Element      Value\")\n",
    "for x in range(10):\n",
    "    print(x,\"          \",2+x*2)"
   ]
  },
  {
   "cell_type": "code",
   "execution_count": 12,
   "id": "d969cb8c",
   "metadata": {},
   "outputs": [
    {
     "name": "stdout",
     "output_type": "stream",
     "text": [
      "60 65 70 75 80 85 90 95 100 "
     ]
    }
   ],
   "source": [
    "x=60\n",
    "while x<=100:\n",
    "    print(x,end=\" \")\n",
    "    x=x+5"
   ]
  },
  {
   "cell_type": "code",
   "execution_count": 13,
   "id": "af7c8be6",
   "metadata": {},
   "outputs": [
    {
     "name": "stdout",
     "output_type": "stream",
     "text": [
      "50 55 60 65 70 75 80 85 90 95 100 105 110 115 "
     ]
    }
   ],
   "source": [
    "for x in range(50,120,5):\n",
    "    print(x, end=\" \")"
   ]
  },
  {
   "cell_type": "code",
   "execution_count": 14,
   "id": "c5f48c9d",
   "metadata": {},
   "outputs": [
    {
     "name": "stdout",
     "output_type": "stream",
     "text": [
      "500 475 450 425 400 375 350 325 300 275 250 225 200 175 150 125 "
     ]
    }
   ],
   "source": [
    "for x in range(500,120,-25):\n",
    "    print(x, end=\" \")"
   ]
  },
  {
   "cell_type": "code",
   "execution_count": 17,
   "id": "80f6842f",
   "metadata": {},
   "outputs": [
    {
     "name": "stdout",
     "output_type": "stream",
     "text": [
      "sayı:3\n",
      "3\n",
      "sayı:5\n",
      "8\n",
      "sayı:8\n",
      "16\n",
      "sayı:9\n",
      "25\n",
      "sayı:5\n",
      "30\n"
     ]
    }
   ],
   "source": [
    "b=0\n",
    "for x in range(5):\n",
    "    a=int(input(\"sayı:\"))\n",
    "    b+=a\n",
    "    print(b)"
   ]
  },
  {
   "cell_type": "code",
   "execution_count": 24,
   "id": "9ad981ee",
   "metadata": {},
   "outputs": [
    {
     "name": "stdout",
     "output_type": "stream",
     "text": [
      "Sayı:-1\n",
      "Sayı:3\n",
      "Sayı:-5\n",
      "Sayı:7\n",
      "Sayı:-9\n",
      "Maksimum= 7 Minimum= -9\n"
     ]
    }
   ],
   "source": [
    "a=int(input(\"Sayı:\"))\n",
    "Min=a\n",
    "Mak=a\n",
    "for x in range(4):\n",
    "    a=int(input(\"Sayı:\"))\n",
    "    if a<Min:\n",
    "        Min=a\n",
    "    if a>Mak:\n",
    "        Mak=a\n",
    "        \n",
    "print(\"Maksimum=\",Mak, \"Minimum=\",Min)"
   ]
  },
  {
   "cell_type": "code",
   "execution_count": 31,
   "id": "1422095a",
   "metadata": {},
   "outputs": [
    {
     "name": "stdout",
     "output_type": "stream",
     "text": [
      "N=10\n",
      "1\n",
      "3\n",
      "5\n",
      "7\n",
      "9\n"
     ]
    }
   ],
   "source": [
    "N = int(input(\"N=\"))\n",
    "for x in range(1,N+1):\n",
    "    if x%2==1:\n",
    "         print(x) "
   ]
  },
  {
   "cell_type": "code",
   "execution_count": 35,
   "id": "d5ff912a",
   "metadata": {},
   "outputs": [
    {
     "name": "stdout",
     "output_type": "stream",
     "text": [
      "N=18\n",
      "1 2 3 6 9 18 "
     ]
    }
   ],
   "source": [
    "N = int(input(\"N=\"))\n",
    "for x in range(1,N+1):\n",
    "    if N%x==0:\n",
    "         print(x,end=\" \") "
   ]
  },
  {
   "cell_type": "code",
   "execution_count": 39,
   "id": "85421a54",
   "metadata": {},
   "outputs": [
    {
     "name": "stdout",
     "output_type": "stream",
     "text": [
      "P\n",
      "y\n",
      "t\n"
     ]
    }
   ],
   "source": [
    "for harf in \"Python\":\n",
    "    if harf == \"h\":\n",
    "        break                   #döngüden çık\n",
    "    print(harf) "
   ]
  },
  {
   "cell_type": "code",
   "execution_count": 40,
   "id": "dece994e",
   "metadata": {},
   "outputs": [
    {
     "name": "stdout",
     "output_type": "stream",
     "text": [
      "P\n",
      "y\n",
      "t\n",
      "o\n",
      "n\n"
     ]
    }
   ],
   "source": [
    "for harf in \"Python\":                   #iterasyon, epoch\n",
    "    if harf == \"h\":\n",
    "        continue                  #döngüde onu atla devam et\n",
    "    print(harf) "
   ]
  },
  {
   "cell_type": "code",
   "execution_count": 48,
   "id": "a0cfd243",
   "metadata": {},
   "outputs": [
    {
     "name": "stdout",
     "output_type": "stream",
     "text": [
      "a=3\n",
      "b=5\n",
      "243\n"
     ]
    }
   ],
   "source": [
    "a=int(input(\"a=\"))\n",
    "b=int(input(\"b=\"))\n",
    "    \n",
    "sonuc=1\n",
    "for x in range(b):\n",
    "    sonuc*=a\n",
    "print(sonuc)"
   ]
  },
  {
   "cell_type": "code",
   "execution_count": null,
   "id": "1d0ac79b",
   "metadata": {},
   "outputs": [],
   "source": []
  }
 ],
 "metadata": {
  "kernelspec": {
   "display_name": "Python 3",
   "language": "python",
   "name": "python3"
  },
  "language_info": {
   "codemirror_mode": {
    "name": "ipython",
    "version": 3
   },
   "file_extension": ".py",
   "mimetype": "text/x-python",
   "name": "python",
   "nbconvert_exporter": "python",
   "pygments_lexer": "ipython3",
   "version": "3.8.8"
  }
 },
 "nbformat": 4,
 "nbformat_minor": 5
}
