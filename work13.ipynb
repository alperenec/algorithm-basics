{
 "cells": [
  {
   "cell_type": "code",
   "execution_count": 26,
   "id": "eea298f4",
   "metadata": {},
   "outputs": [
    {
     "name": "stdout",
     "output_type": "stream",
     "text": [
      "4\n",
      "harf gir:a\n",
      "harf gir:c\n",
      "0\n",
      "harf gir:d\n",
      "0\n",
      "0\n",
      "harf gir:b\n",
      "0\n"
     ]
    }
   ],
   "source": [
    "A=[]\n",
    "n=int(input())\n",
    "top=0\n",
    "for i in range(n):\n",
    "    harfal=str(input(\"harf gir:\").lower())\n",
    "    A.append(\"harfal\")\n",
    "    \n",
    "    for j in range(len(A)):\n",
    "        if ord(A[-1])>ord(A[j]):\n",
    "            top+=1\n",
    "        else:\n",
    "            continue\n",
    "        print(top)\n",
    "        j+1\n",
    "        \n",
    "#çalışmayan kod"
   ]
  },
  {
   "cell_type": "code",
   "execution_count": 27,
   "id": "f0658dc5",
   "metadata": {},
   "outputs": [
    {
     "name": "stdout",
     "output_type": "stream",
     "text": [
      "4\n",
      "harf gir:c\n",
      "0\n",
      "harf gir:a\n",
      "0\n",
      "harf gir:d\n",
      "2\n",
      "harf gir:b\n",
      "1\n"
     ]
    }
   ],
   "source": [
    "A=[]\n",
    "n=int(input())\n",
    "for i in range(n):\n",
    "    top=0\n",
    "    harfal=str(input(\"harf gir:\").lower())\n",
    "    A.append(harfal)\n",
    "    \n",
    "    for j in range(len(A)):\n",
    "        if ord(A[-1])>ord(A[j]):\n",
    "            top+=1\n",
    "\n",
    "    print(top)\n",
    "\n",
    "\n",
    "#ÇALIŞAN KOD"
   ]
  },
  {
   "cell_type": "code",
   "execution_count": null,
   "id": "552aeb29",
   "metadata": {},
   "outputs": [],
   "source": [
    "\"\"\"\n",
    "N=int(input())\n",
    "A=[]\n",
    "for i in range(N):\n",
    "    A.append(input())\n",
    "for i in range(N):\n",
    "    j=i-1\n",
    "    Nice=0\n",
    "    while(j>)\n",
    "\"\"\"\n",
    "#hocanın kodu"
   ]
  },
  {
   "cell_type": "code",
   "execution_count": null,
   "id": "a31ca373",
   "metadata": {},
   "outputs": [],
   "source": []
  }
 ],
 "metadata": {
  "kernelspec": {
   "display_name": "Python 3 (ipykernel)",
   "language": "python",
   "name": "python3"
  },
  "language_info": {
   "codemirror_mode": {
    "name": "ipython",
    "version": 3
   },
   "file_extension": ".py",
   "mimetype": "text/x-python",
   "name": "python",
   "nbconvert_exporter": "python",
   "pygments_lexer": "ipython3",
   "version": "3.9.7"
  }
 },
 "nbformat": 4,
 "nbformat_minor": 5
}
