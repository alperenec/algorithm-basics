{
 "cells": [
  {
   "cell_type": "code",
   "execution_count": 1,
   "id": "a8c45677",
   "metadata": {},
   "outputs": [
    {
     "name": "stdout",
     "output_type": "stream",
     "text": [
      "fibonacci ilk n sayısını girin:10\n",
      "0 1 1 2 3 5 8 13 21 34 "
     ]
    }
   ],
   "source": [
    "n=int(input(\"fibonacci ilk n sayısını girin:\"))\n",
    "A=0\n",
    "print(A,end=\" \")\n",
    "B=1\n",
    "print(B,end=\" \")\n",
    "for i in range(n-2):\n",
    "    F=A+B\n",
    "    print(F,end=\" \")\n",
    "    A=B\n",
    "    B=F"
   ]
  },
  {
   "cell_type": "code",
   "execution_count": 3,
   "id": "263d2d2f",
   "metadata": {},
   "outputs": [
    {
     "name": "stdout",
     "output_type": "stream",
     "text": [
      "(0, 0) False\n",
      "(0, 1) False\n",
      "(1, 0) False\n",
      "(1, 1) True\n"
     ]
    }
   ],
   "source": [
    "inputs=[(0,0),(0,1),(1,0),(1,1)]\n",
    "outputs=[False, False, False, True]\n",
    "\n",
    "for input, output in zip(inputs, outputs):\n",
    "    print(input, output)"
   ]
  },
  {
   "cell_type": "code",
   "execution_count": 4,
   "id": "6fe8d8df",
   "metadata": {},
   "outputs": [
    {
     "name": "stdout",
     "output_type": "stream",
     "text": [
      " In1  In2\n",
      "   0    0\n",
      "   0    1\n",
      "   1    0\n",
      "   1    1\n"
     ]
    }
   ],
   "source": [
    "import pandas as pd\n",
    "inputs= [(0,0),(0,1),(1,0),(1,1)]\n",
    "frame= pd.DataFrame(inputs, columns=[\"In1\", \"In2\"])\n",
    "print(frame.to_string(index=False))"
   ]
  },
  {
   "cell_type": "code",
   "execution_count": null,
   "id": "583bbdd9",
   "metadata": {},
   "outputs": [],
   "source": []
  }
 ],
 "metadata": {
  "kernelspec": {
   "display_name": "Python 3 (ipykernel)",
   "language": "python",
   "name": "python3"
  },
  "language_info": {
   "codemirror_mode": {
    "name": "ipython",
    "version": 3
   },
   "file_extension": ".py",
   "mimetype": "text/x-python",
   "name": "python",
   "nbconvert_exporter": "python",
   "pygments_lexer": "ipython3",
   "version": "3.9.7"
  }
 },
 "nbformat": 4,
 "nbformat_minor": 5
}
