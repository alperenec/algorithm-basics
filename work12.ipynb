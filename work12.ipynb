{
 "cells": [
  {
   "cell_type": "code",
   "execution_count": 1,
   "id": "e9b6ccdb",
   "metadata": {},
   "outputs": [
    {
     "name": "stdout",
     "output_type": "stream",
     "text": [
      "1\n",
      "5\n",
      "2 8 9 4 2\n",
      "['2', '8', '9', '4', '2']\n"
     ]
    }
   ],
   "source": [
    "T=int(input())\n",
    "for iT in range(T):\n",
    "    N=int(input())\n",
    "    txt=input()\n",
    "    L=txt.split()\n",
    "    print(L)"
   ]
  },
  {
   "cell_type": "code",
   "execution_count": 3,
   "id": "8484e955",
   "metadata": {},
   "outputs": [
    {
     "name": "stdout",
     "output_type": "stream",
     "text": [
      "2 8 9 4 2\n",
      "[2, 8, 9, 4, 2]\n"
     ]
    }
   ],
   "source": [
    "arr=list(map(int,input().split()))\n",
    "print(arr)"
   ]
  },
  {
   "cell_type": "code",
   "execution_count": 2,
   "id": "d9b4305b",
   "metadata": {},
   "outputs": [
    {
     "name": "stdout",
     "output_type": "stream",
     "text": [
      "1\n",
      "5\n",
      "2 8 9 4 2\n",
      "[2, 8, 9, 4, 2]\n"
     ]
    }
   ],
   "source": [
    "T=int(input())\n",
    "for iT in range(T):\n",
    "    N=int(input())\n",
    "    txt=input()\n",
    "    L=txt.split()\n",
    "    L=[int(i) for i in L]     ##\n",
    "    print(L)"
   ]
  },
  {
   "cell_type": "code",
   "execution_count": 6,
   "id": "9fcf889f",
   "metadata": {},
   "outputs": [
    {
     "name": "stdout",
     "output_type": "stream",
     "text": [
      "1\n",
      "4\n",
      "8 7\n",
      "yanlış\n"
     ]
    }
   ],
   "source": [
    "T=int(input())\n",
    "for iT in range(T):\n",
    "    N=int(input())\n",
    "    L=list(map(int,input().split()))\n",
    "    if N == len(L):\n",
    "        print(\"doğru\")\n",
    "    else:\n",
    "        print(\"yanlış\")"
   ]
  },
  {
   "cell_type": "code",
   "execution_count": null,
   "id": "9bcb243c",
   "metadata": {},
   "outputs": [],
   "source": [
    "T=int(input())\n",
    "for iT in range(T):\n",
    "    N=int(input())\n",
    "    L=list(map(int,input().split()))"
   ]
  }
 ],
 "metadata": {
  "kernelspec": {
   "display_name": "Python 3 (ipykernel)",
   "language": "python",
   "name": "python3"
  },
  "language_info": {
   "codemirror_mode": {
    "name": "ipython",
    "version": 3
   },
   "file_extension": ".py",
   "mimetype": "text/x-python",
   "name": "python",
   "nbconvert_exporter": "python",
   "pygments_lexer": "ipython3",
   "version": "3.9.7"
  }
 },
 "nbformat": 4,
 "nbformat_minor": 5
}
