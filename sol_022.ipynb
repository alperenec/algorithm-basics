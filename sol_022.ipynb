{
 "cells": [
  {
   "cell_type": "markdown",
   "id": "801be894-74bb-4f13-a931-8ce0818dee4d",
   "metadata": {},
   "source": [
    "https://leetcode.com/problems/best-time-to-buy-and-sell-stock/"
   ]
  },
  {
   "cell_type": "code",
   "execution_count": 67,
   "id": "95df6fbe-db27-4d94-9179-1f5a7944be45",
   "metadata": {},
   "outputs": [],
   "source": [
    "arr = [5,8,2,4,9,6]            #=>5      1,6"
   ]
  },
  {
   "cell_type": "code",
   "execution_count": 68,
   "id": "38fa0bd0-716b-45b7-b84b-8bcc9a5057d9",
   "metadata": {},
   "outputs": [
    {
     "name": "stdout",
     "output_type": "stream",
     "text": [
      "7\n"
     ]
    }
   ],
   "source": [
    "max=0\n",
    "for i in range(len(arr)):\n",
    "    for j in range(i+1,len(arr)):\n",
    "        if max < arr[j]-arr[i]:\n",
    "            max = arr[j]-arr[i]\n",
    "print(max)"
   ]
  },
  {
   "cell_type": "markdown",
   "id": "c4c0ed94-cdde-47f9-a8b5-5dfb2d3f047e",
   "metadata": {},
   "source": [
    "https://leetcode.com/problems/min-cost-climbing-stairs/"
   ]
  },
  {
   "cell_type": "code",
   "execution_count": 276,
   "id": "4e1fce6a-ae4b-4162-a071-3c00ff343135",
   "metadata": {},
   "outputs": [],
   "source": [
    "'''cost = []\n",
    "  \n",
    "n = int(input(\"Enter number of elements : \"))\n",
    "  \n",
    "for i in range(0, n):\n",
    "    ele = int(input())\n",
    "    cost.append(ele) \n",
    "    \n",
    "print(cost) '''\n",
    "cost = [10,15,20,35,1,1]"
   ]
  },
  {
   "cell_type": "code",
   "execution_count": 291,
   "id": "28575f8d-34af-48e8-a550-8cafb9b4d7e8",
   "metadata": {},
   "outputs": [
    {
     "name": "stdout",
     "output_type": "stream",
     "text": [
      "36\n"
     ]
    }
   ],
   "source": [
    "sumCase1=cost[0]\n",
    "i=0\n",
    "while i!=len(cost)-2 and i!=len(cost)-1:\n",
    "    if cost[i+1]<cost[i+2]:\n",
    "        sumCase1+=cost[i+1]\n",
    "        i+=1\n",
    "    elif cost[i+1]>=cost[i+2]:\n",
    "        sumCase1+=cost[i+2]\n",
    "        i+=2\n",
    "\n",
    "if i==len(cost)-2:\n",
    "    sumCase1+=cost[-2]\n",
    "\n",
    "\n",
    "sumCase2=cost[1]\n",
    "i=1\n",
    "while i!=len(cost)-2 and i!=len(cost)-1:\n",
    "    if cost[i+1]<cost[i+2]:\n",
    "        sumCase2+=cost[i+1]\n",
    "        i+=1\n",
    "    elif cost[i+1]>=cost[i+2]:\n",
    "        sumCase2+=cost[i+2]\n",
    "        i+=2\n",
    "\n",
    "if i==len(cost)-2:\n",
    "    sumCase1+=cost[-2]\n",
    "    \n",
    "if sumCase1<sumCase2:\n",
    "    print(sumCase1)\n",
    "else:\n",
    "    print(sumCase2)"
   ]
  },
  {
   "cell_type": "code",
   "execution_count": 286,
   "id": "1ac48256-6e36-4581-83ac-0116fbc2d088",
   "metadata": {},
   "outputs": [
    {
     "name": "stdout",
     "output_type": "stream",
     "text": [
      "31\n"
     ]
    }
   ],
   "source": [
    "cost = [10,15,20,35,1,1]\n",
    "def Solution(var):\n",
    "    for i in range(len(cost)-3,-1,-1) :\n",
    "        cost[i] += min(cost[i+1],cost[i+2])\n",
    "    return min(cost[0],cost[1])\n",
    "\n",
    "print(Solution(cost))"
   ]
  },
  {
   "cell_type": "code",
   "execution_count": 288,
   "id": "04d3043f-b358-4146-8f09-4f90821add87",
   "metadata": {},
   "outputs": [
    {
     "name": "stdout",
     "output_type": "stream",
     "text": [
      "36\n"
     ]
    }
   ],
   "source": [
    "cost = [10,15,20,35,1,1]\n",
    "def min_Tirmanma(a=[]):\n",
    "    i = 0\n",
    "    bedel_0 = a[i]\n",
    "    try:\n",
    "        while i != a.__len__():\n",
    "            if a[i + 1] < a[i + 2]:\n",
    "                bedel_0 += a[i + 1]\n",
    "                i += 1\n",
    "            if a[i + 1] >= a[i + 2]:\n",
    "                bedel_0 += a[i + 2]\n",
    "                i += 2\n",
    "    except:\n",
    "        c = 6\n",
    "    i = 1\n",
    "    bedel_1 = a[i]\n",
    "\n",
    "    try:\n",
    "        while i != a.__len__():\n",
    "            if a[i + 1] < a[i + 2]:\n",
    "                bedel_1 += a[i + 1]\n",
    "                i += 1\n",
    "            if a[i + 1] >= a[i + 2]:\n",
    "                bedel_1 += a[i + 2]\n",
    "                i += 2\n",
    "    except:\n",
    "        c =5\n",
    "\n",
    "    if bedel_1 >= bedel_0:\n",
    "        print(bedel_0)\n",
    "    else:\n",
    "        print(bedel_1)\n",
    "\n",
    "\n",
    "min_Tirmanma(cost)"
   ]
  },
  {
   "cell_type": "code",
   "execution_count": 292,
   "id": "da24cfe4-9a04-482a-a115-a0ce116d36fa",
   "metadata": {},
   "outputs": [
    {
     "name": "stdout",
     "output_type": "stream",
     "text": [
      "36\n"
     ]
    }
   ],
   "source": [
    "cost = [10,15,20,35,1,1]\n",
    "sumCase1=cost[0]\n",
    "i=0\n",
    "while i!=len(cost)-2 and i!=len(cost)-1:\n",
    "    if cost[i+1]<cost[i+2]:\n",
    "        sumCase1+=cost[i+1]\n",
    "    elif cost[i+1]>=cost[i+2]:\n",
    "        sumCase1+=cost[i+2]\n",
    "        i+=1\n",
    "    i+=1\n",
    "\n",
    "\n",
    "sumCase2=cost[1]\n",
    "i=1\n",
    "while i!=len(cost)-2 and i!=len(cost)-1:\n",
    "    if cost[i+1]<cost[i+2]:\n",
    "        sumCase2+=cost[i+1]\n",
    "        i+=1\n",
    "    elif cost[i+1]>=cost[i+2]:\n",
    "        sumCase2+=cost[i+2]\n",
    "        i+=1\n",
    "    i+=1\n",
    "    \n",
    "if sumCase1<sumCase2:\n",
    "    print(sumCase1)\n",
    "else:\n",
    "    print(sumCase2)"
   ]
  },
  {
   "cell_type": "markdown",
   "id": "f58c951f-51ba-4f2e-bb7d-5e22fb3525bd",
   "metadata": {},
   "source": [
    "https://leetcode.com/problems/valid-anagram/"
   ]
  },
  {
   "cell_type": "code",
   "execution_count": 52,
   "id": "f36cc82d-7811-4520-9e83-bbb17e421633",
   "metadata": {},
   "outputs": [
    {
     "name": "stdin",
     "output_type": "stream",
     "text": [
      "kelime1 girin: aşık\n",
      "kelime2 girin: akış\n"
     ]
    }
   ],
   "source": [
    "givenarr1=input(str(\"kelime1 girin:\"))\n",
    "givenarr2=input(str(\"kelime2 girin:\"))"
   ]
  },
  {
   "cell_type": "code",
   "execution_count": 53,
   "id": "a23d5068-3f1f-486c-9acb-75f4201d2693",
   "metadata": {},
   "outputs": [],
   "source": [
    "def anagram(givenarr1,givenarr2):\n",
    "    arr1=[i for i in givenarr1]\n",
    "    arr2=[i for i in givenarr2]\n",
    "    \n",
    "    arr1sum=0\n",
    "    for i in range(len(arr1)):\n",
    "        arr1sum+=ord(arr1[i])\n",
    "    arr2sum=0\n",
    "    for i in range(len(arr2)):\n",
    "        arr2sum+=ord(arr2[i])\n",
    "        \n",
    "    if arr1sum==arr2sum:\n",
    "        print(\"true\") \n",
    "    else:\n",
    "        print(\"false\") "
   ]
  },
  {
   "cell_type": "code",
   "execution_count": 54,
   "id": "00070ffb-3a0c-42ff-941a-6259adbfee37",
   "metadata": {},
   "outputs": [
    {
     "name": "stdout",
     "output_type": "stream",
     "text": [
      "true\n"
     ]
    }
   ],
   "source": [
    "anagram(givenarr1,givenarr2)"
   ]
  },
  {
   "cell_type": "code",
   "execution_count": 60,
   "id": "eed7a5e7-3f3b-4479-b459-abb8209223da",
   "metadata": {},
   "outputs": [
    {
     "name": "stdout",
     "output_type": "stream",
     "text": [
      "['a', 'ş', 'ı', 'k']\n",
      "['a', 'k', 'ı', 'ş']\n"
     ]
    }
   ],
   "source": [
    "arr1=[i for i in givenarr1]\n",
    "print(arr1)\n",
    "arr2=[i for i in givenarr2]\n",
    "print(arr2)"
   ]
  },
  {
   "cell_type": "code",
   "execution_count": 87,
   "id": "681452a1-0701-4c83-ab08-a845a02cec75",
   "metadata": {},
   "outputs": [
    {
     "name": "stdout",
     "output_type": "stream",
     "text": [
      "True\n"
     ]
    }
   ],
   "source": [
    "arr1=\"alışık\"\n",
    "arr2=\"akışlı\"\n",
    "\n",
    "def isAnagram(arr1, arr2):\n",
    "    if len(arr1) != len(arr2):\n",
    "        return False\n",
    "    l = \"abcdefghijklmnopqrstuvwxyz\"\n",
    "    for ch in l:\n",
    "        if arr1.count(ch) != arr2.count(ch):\n",
    "            return False\n",
    "    return True\n",
    "print(isAnagram(arr1,arr2))\n"
   ]
  },
  {
   "cell_type": "code",
   "execution_count": 98,
   "id": "c6dd2a12-4c12-4f9d-9ebd-0ca782db54c4",
   "metadata": {},
   "outputs": [
    {
     "name": "stdout",
     "output_type": "stream",
     "text": [
      "False\n"
     ]
    }
   ],
   "source": [
    "s=\"alışıl\"\n",
    "t=\"akışlı\"\n",
    "\n",
    "def anagram(s,t):\n",
    "    if len(s)!=len(t):\n",
    "        return False\n",
    "    \n",
    "    l1=[]\n",
    "    for i in range(0,len(s)):\n",
    "        l1.append(ord(s[i]))\n",
    "        \n",
    "    for i in range(len(t)):\n",
    "        num_code=ord(t[i])\n",
    "        \n",
    "        for i in range(len(l1)):\n",
    "            if num_code==l1[i]:\n",
    "                l1.remove(num_code)\n",
    "                break\n",
    "            else:\n",
    "                continue\n",
    "    if len(l1)==0:\n",
    "        return True\n",
    "    else:\n",
    "        return False\n",
    "    \n",
    "print(anagram(s,t))"
   ]
  },
  {
   "cell_type": "markdown",
   "id": "407313c5-6679-4458-8b6b-7db9b184ffe1",
   "metadata": {},
   "source": [
    "https://leetcode.com/problems/word-pattern/"
   ]
  },
  {
   "cell_type": "code",
   "execution_count": 100,
   "id": "c8dc1dcd-01ac-4ee1-ba53-d774b4620862",
   "metadata": {},
   "outputs": [],
   "source": [
    "pattern = \"abba\"\n",
    "s = \"dog cat cat dog\""
   ]
  },
  {
   "cell_type": "code",
   "execution_count": 101,
   "id": "3aa096ca-2d1d-4378-beca-c207da9dc611",
   "metadata": {},
   "outputs": [
    {
     "name": "stdout",
     "output_type": "stream",
     "text": [
      "['a', 'b', 'b', 'a']\n"
     ]
    }
   ],
   "source": [
    "code=[i for i in pattern]\n",
    "print(code)"
   ]
  },
  {
   "cell_type": "code",
   "execution_count": 103,
   "id": "4a56d722-47c2-4e38-99c6-8a476d10b0c4",
   "metadata": {},
   "outputs": [
    {
     "name": "stdout",
     "output_type": "stream",
     "text": [
      "['dog', 'cat', 'cat', 'dog']\n"
     ]
    }
   ],
   "source": [
    "text=s.split(\" \")\n",
    "print(text)"
   ]
  },
  {
   "cell_type": "code",
   "execution_count": 106,
   "id": "b0c0aa3e-ff27-4631-a12d-fa4b55ad66b4",
   "metadata": {},
   "outputs": [
    {
     "name": "stdout",
     "output_type": "stream",
     "text": [
      "0 1\n",
      "0 2\n",
      "0 3\n",
      "1 2\n",
      "1 3\n",
      "2 3\n"
     ]
    }
   ],
   "source": [
    "for i in range(len(code)):\n",
    "        for j in range(i+1,len(code)):\n",
    "            print(i,j)"
   ]
  },
  {
   "cell_type": "code",
   "execution_count": 135,
   "id": "ff33ec81-1245-4a91-8a0a-2c6f7287bada",
   "metadata": {},
   "outputs": [
    {
     "name": "stdout",
     "output_type": "stream",
     "text": [
      "[1, 2, 3, 4]\n",
      "[1, 2, 3, 4]\n",
      "True\n"
     ]
    }
   ],
   "source": [
    "pattern = \"abbcc\"\n",
    "s = \"dog cat cat horse horse\"\n",
    "\n",
    "def isPattern(pattern,s):\n",
    "    code=[i for i in pattern]\n",
    "    text=s.split(\" \")\n",
    "    \n",
    "    l1=[]\n",
    "    for i in range(len(code)):\n",
    "        for j in range(i+1,len(code)):\n",
    "            if code[i]==code[j]:\n",
    "                l1.append(i)\n",
    "                l1.append(j)\n",
    "    print(l1)\n",
    "            \n",
    "    l2=[]\n",
    "    for i in range(len(text)):\n",
    "        for j in range(i+1,len(text)):\n",
    "            if text[i]==text[j]:\n",
    "                l2.append(i)\n",
    "                l2.append(j)\n",
    "    print(l2)\n",
    "\n",
    "                \n",
    "    if l1==l2:\n",
    "        return True\n",
    "    else:\n",
    "        return False\n",
    "    \n",
    "print(isPattern(pattern,s))\n"
   ]
  },
  {
   "cell_type": "markdown",
   "id": "7884bef3-66f5-47bf-87a6-4510c87dbfcb",
   "metadata": {},
   "source": [
    "https://leetcode.com/problems/longest-common-prefix/"
   ]
  },
  {
   "cell_type": "code",
   "execution_count": 37,
   "id": "3a845d06-69d9-40c6-b441-08bd75ccbbf2",
   "metadata": {},
   "outputs": [
    {
     "name": "stdout",
     "output_type": "stream",
     "text": [
      "Ortak başlangıç yok !!!\n"
     ]
    }
   ],
   "source": [
    "l1 = [\"alp\", \"p\", \"alp\"]\n",
    "\n",
    "def uzunTekrar(list):\n",
    "\n",
    "    str = list[-1]                          #Dizinin son elemanını referans eleman olarak aldım çünkü geriye kontrol edince diziden çıkma gibi bir dert yok\n",
    "    tekrar_list = []                        #Referans elemanımın diğer elemanlarla olan tekrar sayılarını bu listeye atacağım\n",
    "    for i in range(len(list)-2,-1,-1):      #Sondan ikincide başla ve ilk elemana doğru git\n",
    "        tekrar = 0\n",
    "        for b in range(len(str)):\n",
    "            try:\n",
    "                if str[b] == list[i][b]:\n",
    "                    tekrar += 1\n",
    "                    b += 1\n",
    "            except:\n",
    "                continue\n",
    "        tekrar_list.append(tekrar)\n",
    "    tekrar_list.sort()                      #Listeyi sıraladım çünkü tekrarların en küçüğü hepsinde ortak olan tekrar sayısına eşit\n",
    "    ortak = tekrar_list[0]                  #En küçük tekrarı aldım\n",
    "\n",
    "    if ortak > 0 :                          #Burada ortak başlangıç varsa yazdım yoksa hata mesajı ekledim\n",
    "        return print(str[0:ortak])\n",
    "    else:\n",
    "        return print(\"Ortak başlangıç yok !!!\")\n",
    "\n",
    "uzunTekrar(l1)"
   ]
  },
  {
   "cell_type": "code",
   "execution_count": 79,
   "id": "51a640b9-c1ed-4581-a91e-cdf1f8c804d6",
   "metadata": {},
   "outputs": [
    {
     "name": "stdout",
     "output_type": "stream",
     "text": [
      "ot\n"
     ]
    }
   ],
   "source": [
    "#my lovely code <3\n",
    "\n",
    "strs = [\"otlama\",\"otlakçı\",\"otoban\",\"otostop\"]\n",
    "        \n",
    "c=0\n",
    "common=[]\n",
    "top=0\n",
    "i=0\n",
    "while c!=len(strs)-1:\n",
    "    try:\n",
    "        if strs[c][i]==strs[c+1][i]:\n",
    "            top+=1            #5\n",
    "            i+=1 \n",
    "            \n",
    "\n",
    "        else:\n",
    "            common.append(top)\n",
    "            i=0\n",
    "            top=0\n",
    "            c+=1\n",
    "            \n",
    "    except:\n",
    "        common.append(top)\n",
    "        i=0\n",
    "        top=0\n",
    "        c+=1\n",
    "        \n",
    "        \n",
    "kucuk=common[0]\n",
    "for i in range(len(common)):\n",
    "    if common[i]<kucuk:\n",
    "        kucuk=common[i]\n",
    "print(strs[0][:kucuk])"
   ]
  },
  {
   "cell_type": "markdown",
   "id": "4d95395b-4b7e-4706-a904-1d975c4d0404",
   "metadata": {},
   "source": [
    "finalde sorulan soru"
   ]
  },
  {
   "cell_type": "code",
   "execution_count": 44,
   "id": "05a666bb-cf04-42f2-82fd-e81d801ff961",
   "metadata": {},
   "outputs": [],
   "source": [
    "from numpy.random import seed\n",
    "from numpy.random import rand\n",
    "import numpy as np"
   ]
  },
  {
   "cell_type": "code",
   "execution_count": 45,
   "id": "eb21adfa-b36b-4069-a6f0-e53b0e42c4bf",
   "metadata": {},
   "outputs": [],
   "source": [
    "def EBOB(self):\n",
    "    for i in reversed(range(1, max(self))):\n",
    "        if sum([j % i for j in self]) == 0:\n",
    "            ebob = i            \n",
    "            break\n",
    "    return ebob"
   ]
  },
  {
   "cell_type": "code",
   "execution_count": 55,
   "id": "2a7b6ae4-b6bb-40a3-8f6a-8b2d441d59e6",
   "metadata": {},
   "outputs": [],
   "source": [
    "liste=[91, 71, 43, 20, 11, 38, 73, 30] \n",
    "n=8\n",
    "k=2"
   ]
  },
  {
   "cell_type": "code",
   "execution_count": 56,
   "id": "b9e047a8-9327-4efe-bd13-f1d5f791e32c",
   "metadata": {},
   "outputs": [
    {
     "name": "stdout",
     "output_type": "stream",
     "text": [
      "[91, 71, 43, 20, 11, 38, 73, 30]\n",
      "[91, 71, 20, 11, 38, 73, 30]\n",
      "[91, 71, 20, 11, 38, 73, 30]\n",
      "[91, 71, 20, 11, 38, 73, 30]\n",
      "[91, 20, 11, 38, 73, 30]\n",
      "[91, 20, 11, 38, 73, 30]\n",
      "[91, 20, 11, 38, 73, 30]\n",
      "[91, 20, 11, 38, 73, 30]\n",
      "[91, 20, 11, 73, 30]\n",
      "[20, 11, 73, 30]\n",
      "[20, 11, 30]\n",
      "[20, 30]\n",
      "[20, 30]\n",
      "[20, 30]\n",
      "[20, 30]\n",
      "[20]\n"
     ]
    }
   ],
   "source": [
    "print(liste)\n",
    "start = 0\n",
    "count = 0\n",
    "while n>1:\n",
    "    stop=(start+k) % n\n",
    "    if EBOB([liste[start],liste[stop]])==1 or count>=3: #EBOB=1 ise aralarinda asal\n",
    "        del liste[stop]        \n",
    "        n=n-1\n",
    "        stop = stop % n\n",
    "        count = 0\n",
    "    else: \n",
    "        count = count + 1\n",
    "    start = stop\n",
    "    print(liste)        "
   ]
  },
  {
   "cell_type": "code",
   "execution_count": 48,
   "id": "b16b4bb8-c014-477d-aef1-0e16a5b95d9f",
   "metadata": {},
   "outputs": [
    {
     "data": {
      "text/plain": [
       "'\\n[\"91\", 71, 43, 20, 11, 38, 73, 30] \\n[91, 71, \"20\", 11, 38, 73, 30] +\\n[91, 71, 20, 11, \"38\", 73, 30]\\n[91, 71, 20, 11, 38, 73, \"30\"]\\n[91, \"20\", 11, 38, 73, 30] +\\n[91, 20, 11, \"38\", 73, 30] \\n[91, 20, 11, 38, 73, \"30\"] \\n[91, \"20\", 11, 38, 73, 30] \\n[91, 20, 11, \"73\", 30] +\\n[\"20\", 11, 73, 30] +\\n[20, 11, \"30\"] +\\n[20, \"30\"] +\\n[20, \"30\"] \\n[20, \"30\"] \\n[20, \"30\"] \\n[20]\\n'"
      ]
     },
     "execution_count": 48,
     "metadata": {},
     "output_type": "execute_result"
    }
   ],
   "source": [
    "\"\"\"\n",
    "[\"91\", 71, 43, 20, 11, 38, 73, 30] \n",
    "[91, 71, \"20\", 11, 38, 73, 30] +\n",
    "[91, 71, 20, 11, \"38\", 73, 30]\n",
    "[91, 71, 20, 11, 38, 73, \"30\"]\n",
    "[91, \"20\", 11, 38, 73, 30] +\n",
    "[91, 20, 11, \"38\", 73, 30] \n",
    "[91, 20, 11, 38, 73, \"30\"] \n",
    "[91, \"20\", 11, 38, 73, 30] \n",
    "[91, 20, 11, \"73\", 30] +\n",
    "[\"20\", 11, 73, 30] +\n",
    "[20, 11, \"30\"] +\n",
    "[20, \"30\"] +\n",
    "[20, \"30\"] \n",
    "[20, \"30\"] \n",
    "[20, \"30\"] \n",
    "[20]\n",
    "\"\"\""
   ]
  },
  {
   "cell_type": "code",
   "execution_count": 32,
   "id": "05bfb885-9dc4-4745-8057-6a4bc790b6ac",
   "metadata": {},
   "outputs": [],
   "source": [
    "i=0\n",
    "j=0\n",
    "while len(arr)!=1:\n",
    "    j+=k\n",
    "    j=j%len(arr)\n",
    "    i=i%len(arr)\n",
    "    if EBOB(arr[i],arr[j])==1 or c=3:      \n",
    "        del arr[j]\n",
    "        i=j"
   ]
  },
  {
   "cell_type": "code",
   "execution_count": null,
   "id": "5bccf38c-3697-4b03-bf12-b2ecc9a888c2",
   "metadata": {},
   "outputs": [],
   "source": []
  }
 ],
 "metadata": {
  "kernelspec": {
   "display_name": "Python 3 (ipykernel)",
   "language": "python",
   "name": "python3"
  },
  "language_info": {
   "codemirror_mode": {
    "name": "ipython",
    "version": 3
   },
   "file_extension": ".py",
   "mimetype": "text/x-python",
   "name": "python",
   "nbconvert_exporter": "python",
   "pygments_lexer": "ipython3",
   "version": "3.9.7"
  }
 },
 "nbformat": 4,
 "nbformat_minor": 5
}
