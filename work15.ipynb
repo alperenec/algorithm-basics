{
 "cells": [
  {
   "cell_type": "markdown",
   "id": "13ccbca8-3451-46e4-b4be-29f09b590913",
   "metadata": {},
   "source": [
    "H1, tamamlama"
   ]
  },
  {
   "cell_type": "markdown",
   "id": "ca2a9a32-ece5-49be-8269-f3aaaff8c80e",
   "metadata": {},
   "source": [
    "(input)\n",
    "test sayısı: 1\n",
    "n, k: 6,2   n=>kaç sayı gircen  k=>kaçdefa döndürcen\n",
    "txt: 8, 89, 4, 1, 9, 11"
   ]
  },
  {
   "cell_type": "code",
   "execution_count": null,
   "id": "bd86668c-5baa-4636-b8db-0fdaa56fab23",
   "metadata": {},
   "outputs": [],
   "source": [
    "t=int(input())\n",
    "while (t!=0):  #1\n",
    "    n,k=map(int, input().split())  #5 2\n",
    "    arr=input().split() #1 2 3 4 5 \n",
    "    index=n-(k%n)   #3\n",
    "    for i in range(index,n):\n",
    "        print(arr[i],end=' ')\n",
    "    for j in range(index):\n",
    "        print(arr[j],end=' ')\n",
    "    print(\"\\n\")\n",
    "    t-=1\n",
    "\n",
    "#hızlı ve video çözüm"
   ]
  },
  {
   "cell_type": "code",
   "execution_count": 25,
   "id": "27a4a0af-543a-4157-9a41-ed2c6a3459f7",
   "metadata": {},
   "outputs": [
    {
     "name": "stdin",
     "output_type": "stream",
     "text": [
      " 2\n",
      " 6 2\n",
      " 2 6 8 4 5 9\n"
     ]
    },
    {
     "name": "stdout",
     "output_type": "stream",
     "text": [
      "5 9 2 6 8 4 \n",
      "\n"
     ]
    },
    {
     "name": "stdin",
     "output_type": "stream",
     "text": [
      " 4 11\n",
      " 4 9 7 6\n"
     ]
    },
    {
     "name": "stdout",
     "output_type": "stream",
     "text": [
      "9 7 6 4 \n",
      "\n"
     ]
    }
   ],
   "source": [
    "t= int(input())\n",
    "for ti in range(t):\n",
    "    n,k=map(int, input().split())\n",
    "\n",
    "    arr= input().split()\n",
    "    for l in range(len(arr)):\n",
    "        arr[l]=int(arr[l])\n",
    "        \n",
    "    for j in range(k):\n",
    "        tmp= arr[-1]\n",
    "        for i in range(n-1,0,-1):\n",
    "            arr[i]=arr[i-1]\n",
    "        arr[0]=tmp\n",
    "        \n",
    "    for a in arr:\n",
    "        print(a, end=\" \")\n",
    "    print(\"\\n\")\n",
    "    \n",
    "#zamanı aşsa da doru"
   ]
  },
  {
   "cell_type": "markdown",
   "id": "eb208b37-e2be-424f-9f05-8ad5a40c4204",
   "metadata": {},
   "source": [
    "hafta 1 içindeki c videosu"
   ]
  },
  {
   "cell_type": "code",
   "execution_count": null,
   "id": "3a7a5337-87ca-4cc7-a57f-09e8a734fe92",
   "metadata": {},
   "outputs": [],
   "source": [
    "T = int(input()) #Test sayısı\n",
    "\n",
    "for tekrar in range(T):\n",
    "    N = int(input()) # NxN matris oluşturulacak\n",
    "    arr = []\n",
    "    for x in range(N):\n",
    "        arr += [input().split()]  \n",
    "        for x in range(len(arr)):\n",
    "            for y in range(len(arr)):\n",
    "                arr[x][y] = int(arr[x][y]) \n",
    "    #Matris hazır\n",
    "    counter = 0\n",
    "    for j in range(len(arr)):\n",
    "        for q in range(len(arr)):\n",
    "            for i in range(len(arr)):\n",
    "                for p in range(len(arr)):\n",
    "                    if p >= i: \n",
    "                        if q >= j: \n",
    "                            if arr[i][j] > arr[p][q]:\n",
    "                                counter += 1\n",
    "    print(counter)"
   ]
  }
 ],
 "metadata": {
  "kernelspec": {
   "display_name": "Python 3 (ipykernel)",
   "language": "python",
   "name": "python3"
  },
  "language_info": {
   "codemirror_mode": {
    "name": "ipython",
    "version": 3
   },
   "file_extension": ".py",
   "mimetype": "text/x-python",
   "name": "python",
   "nbconvert_exporter": "python",
   "pygments_lexer": "ipython3",
   "version": "3.9.7"
  }
 },
 "nbformat": 4,
 "nbformat_minor": 5
}
